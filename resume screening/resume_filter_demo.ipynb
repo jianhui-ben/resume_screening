{
 "cells": [
  {
   "cell_type": "markdown",
   "metadata": {},
   "source": [
    "# Two goals:\n",
    "### 1. collect candidates' profile info\n",
    "### 2. filter based on skillsets\n"
   ]
  },
  {
   "cell_type": "code",
   "execution_count": 1,
   "metadata": {},
   "outputs": [],
   "source": [
    "import pandas as pd\n",
    "import os\n",
    "import PyPDF2\n",
    "import docx \n",
    "from shutil import copy2\n",
    "\n",
    "# from os import listdir\n",
    "# from os.path import isfile, join\n",
    "# from io import StringIO\n",
    "# from collections import Counter\n",
    "# import en_core_web_sm\n",
    "# nlp = en_core_web_sm.load()  ## nlp model for phrase match\n",
    "# from spacy.matcher import PhraseMatcher\n"
   ]
  },
  {
   "cell_type": "code",
   "execution_count": null,
   "metadata": {},
   "outputs": [],
   "source": [
    "# !conda install -c conda-forge python-docx "
   ]
  },
  {
   "cell_type": "code",
   "execution_count": 2,
   "metadata": {},
   "outputs": [],
   "source": [
    "def pdfextract(file):\n",
    "    fileReader = PyPDF2.PdfFileReader(open(file,'rb'))\n",
    "    countpage = fileReader.getNumPages()\n",
    "    count = 0\n",
    "    text = []\n",
    "    while count < countpage:    \n",
    "        pageObj = fileReader.getPage(count)\n",
    "        count +=1\n",
    "        t = pageObj.extractText()\n",
    "        text.append(t)\n",
    "    return text\n",
    "\n",
    "def docextract(file):\n",
    "    doc = docx.Document(file)\n",
    "    fullText = []\n",
    "    for paragraph in doc.paragraphs:\n",
    "        fullText.append(paragraph.text)\n",
    "    return fullText\n",
    "\n",
    "def clean_pdf(text):\n",
    "    text = str(text)\n",
    "    return text.lower().replace(\"\\\\n\", \"\")\n",
    "\n",
    "def clean_word(text):\n",
    "    text = str(' '.join(p for p in text))\n",
    "    return text.lower().replace(\"\\\\n\", \"\")\n",
    "\n",
    "\n",
    "def extract_all(resume_path):\n",
    "    file_name = []\n",
    "    file_text = []\n",
    "\n",
    "    for f in os.listdir(resume_path):\n",
    "        if os.path.isfile(os.path.join(resume_path, f)):\n",
    "            if '.pdf' in f:\n",
    "                file_text.append(clean_pdf(pdfextract(os.path.join(resume_path, f))))\n",
    "                file_name.append(f)\n",
    "            elif '.docx' in f:\n",
    "                file_text.append(clean_word(docextract(os.path.join(resume_path, f))))\n",
    "                file_name.append(f)\n",
    "            else:\n",
    "                print(f+' is not pdf or docx format, so it is not readable')\n",
    "    return pd.DataFrame({'file_names': file_name, 'contents': file_text})\n",
    "    \n",
    "\n",
    "def search(df_all_resumes, keywords):\n",
    "    search_result=[]\n",
    "    contained_keywords=[]\n",
    "    \n",
    "    and_keywords = keywords[0]\n",
    "    or_keywords = keywords[1]\n",
    "    \n",
    "    and_length=len(and_keywords)\n",
    "    or_length= len(or_keywords)\n",
    "\n",
    "\n",
    "    for i in range(len(df_all_resumes.file_names)):\n",
    "        contents = df_all_resumes.contents[i]\n",
    "        file_name = df_all_resumes.file_names[i]\n",
    "        \n",
    "        ##check and_keywords\n",
    "        if_contain =False\n",
    "        if and_keywords!=[]:\n",
    "            for k in and_keywords:\n",
    "                if_contain += (k in contents)\n",
    "\n",
    "        \n",
    "        ##check or_keywords\n",
    "        check= 0\n",
    "        contain=[]\n",
    "        if or_keywords!=[]:\n",
    "            for word in or_keywords:\n",
    "                if word in contents:\n",
    "                    contain.append(word)\n",
    "                    check+=1\n",
    "\n",
    "#    & if_contain == and_length      \n",
    "        if (and_length!=0) & (or_length!=0):\n",
    "            if (check>0) & (if_contain==and_length):\n",
    "                contain+=and_keywords\n",
    "                contained_keywords.append(contain)\n",
    "                search_result.append(file_name)\n",
    "        elif (and_length==0) & (or_length!=0):\n",
    "            if check>0:\n",
    "                contained_keywords.append(contain)\n",
    "                search_result.append(file_name)\n",
    "        elif (and_length!=0) & (or_length==0):\n",
    "            if if_contain == and_length:\n",
    "                contained_keywords.append(and_keywords)\n",
    "                search_result.append(file_name)\n",
    "        else:\n",
    "            search_result.append(file_name)\n",
    "#     print(len(search_result))\n",
    "#     print(len(contained_keywords))\n",
    "    df = pd.DataFrame({'file_names':search_result, 'contained_keywords': contained_keywords})\n",
    "    print(str(len(df.file_names)) + ' resumes found')\n",
    "    return df\n",
    "\n",
    "\n",
    "def see_resume(result, current_index):\n",
    "    name = result.file_names[current_index]\n",
    "    print('This resume '+ name + \" contains \"+ str(result.contained_keywords[current_index]))\n",
    "    print('Current index is ' + str(current_index))    \n",
    "    os.startfile(os.path.join(resume_path, name))\n",
    "    return name\n",
    "    \n",
    "    "
   ]
  },
  {
   "cell_type": "markdown",
   "metadata": {},
   "source": [
    "## Customize your search here"
   ]
  },
  {
   "cell_type": "code",
   "execution_count": 3,
   "metadata": {},
   "outputs": [
    {
     "name": "stdout",
     "output_type": "stream",
     "text": [
      "2 resumes found\n"
     ]
    }
   ],
   "source": [
    "resume_path='sample resume bundle'\n",
    "and_keywords = ['master']\n",
    "or_keywords = ['python', 'r']\n",
    "result = search(extract_all(resume_path), [and_keywords, or_keywords])"
   ]
  },
  {
   "cell_type": "code",
   "execution_count": 4,
   "metadata": {},
   "outputs": [
    {
     "data": {
      "text/html": [
       "<div>\n",
       "<style scoped>\n",
       "    .dataframe tbody tr th:only-of-type {\n",
       "        vertical-align: middle;\n",
       "    }\n",
       "\n",
       "    .dataframe tbody tr th {\n",
       "        vertical-align: top;\n",
       "    }\n",
       "\n",
       "    .dataframe thead th {\n",
       "        text-align: right;\n",
       "    }\n",
       "</style>\n",
       "<table border=\"1\" class=\"dataframe\">\n",
       "  <thead>\n",
       "    <tr style=\"text-align: right;\">\n",
       "      <th></th>\n",
       "      <th>file_names</th>\n",
       "      <th>contained_keywords</th>\n",
       "    </tr>\n",
       "  </thead>\n",
       "  <tbody>\n",
       "    <tr>\n",
       "      <th>0</th>\n",
       "      <td>Nagadhatri_Chennavajula.docx</td>\n",
       "      <td>[python, r, master]</td>\n",
       "    </tr>\n",
       "    <tr>\n",
       "      <th>1</th>\n",
       "      <td>priya_sai (1).docx</td>\n",
       "      <td>[python, r, master]</td>\n",
       "    </tr>\n",
       "  </tbody>\n",
       "</table>\n",
       "</div>"
      ],
      "text/plain": [
       "                     file_names   contained_keywords\n",
       "0  Nagadhatri_Chennavajula.docx  [python, r, master]\n",
       "1            priya_sai (1).docx  [python, r, master]"
      ]
     },
     "execution_count": 4,
     "metadata": {},
     "output_type": "execute_result"
    }
   ],
   "source": [
    "result"
   ]
  },
  {
   "cell_type": "markdown",
   "metadata": {},
   "source": [
    "## Read the searched resume here"
   ]
  },
  {
   "cell_type": "code",
   "execution_count": 9,
   "metadata": {},
   "outputs": [],
   "source": [
    "current_index = 1   ### Only run it at the first time"
   ]
  },
  {
   "cell_type": "code",
   "execution_count": 10,
   "metadata": {},
   "outputs": [
    {
     "name": "stdout",
     "output_type": "stream",
     "text": [
      "This resume priya_sai (1).docx contains ['python', 'r', 'master']\n",
      "Current index is 1\n"
     ]
    }
   ],
   "source": [
    "name = see_resume(result, current_index)\n",
    "current_index+=1"
   ]
  },
  {
   "cell_type": "markdown",
   "metadata": {},
   "source": [
    "## Save this resume in a new folder"
   ]
  },
  {
   "cell_type": "code",
   "execution_count": 11,
   "metadata": {},
   "outputs": [
    {
     "data": {
      "text/plain": [
       "'test\\\\priya_sai (1).docx'"
      ]
     },
     "execution_count": 11,
     "metadata": {},
     "output_type": "execute_result"
    }
   ],
   "source": [
    "result_path = 'test'\n",
    "copy2(os.path.join(resume_path, name), os.path.join(result_path, name))"
   ]
  },
  {
   "cell_type": "code",
   "execution_count": null,
   "metadata": {},
   "outputs": [],
   "source": []
  },
  {
   "cell_type": "code",
   "execution_count": null,
   "metadata": {},
   "outputs": [],
   "source": []
  },
  {
   "cell_type": "code",
   "execution_count": null,
   "metadata": {},
   "outputs": [],
   "source": []
  },
  {
   "cell_type": "code",
   "execution_count": null,
   "metadata": {},
   "outputs": [],
   "source": []
  },
  {
   "cell_type": "code",
   "execution_count": null,
   "metadata": {},
   "outputs": [],
   "source": []
  },
  {
   "cell_type": "code",
   "execution_count": null,
   "metadata": {},
   "outputs": [],
   "source": []
  },
  {
   "cell_type": "code",
   "execution_count": null,
   "metadata": {},
   "outputs": [],
   "source": []
  },
  {
   "cell_type": "code",
   "execution_count": null,
   "metadata": {},
   "outputs": [],
   "source": []
  },
  {
   "cell_type": "code",
   "execution_count": null,
   "metadata": {},
   "outputs": [],
   "source": []
  },
  {
   "cell_type": "code",
   "execution_count": null,
   "metadata": {},
   "outputs": [],
   "source": []
  },
  {
   "cell_type": "code",
   "execution_count": null,
   "metadata": {},
   "outputs": [],
   "source": []
  },
  {
   "cell_type": "code",
   "execution_count": null,
   "metadata": {},
   "outputs": [],
   "source": []
  },
  {
   "cell_type": "code",
   "execution_count": null,
   "metadata": {},
   "outputs": [],
   "source": []
  }
 ],
 "metadata": {
  "kernelspec": {
   "display_name": "Python 3",
   "language": "python",
   "name": "python3"
  },
  "language_info": {
   "codemirror_mode": {
    "name": "ipython",
    "version": 3
   },
   "file_extension": ".py",
   "mimetype": "text/x-python",
   "name": "python",
   "nbconvert_exporter": "python",
   "pygments_lexer": "ipython3",
   "version": "3.6.9"
  }
 },
 "nbformat": 4,
 "nbformat_minor": 2
}
